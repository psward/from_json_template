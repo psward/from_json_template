{
 "cells": [
  {
   "cell_type": "markdown",
   "metadata": {},
   "source": [
    "# Basic YourState template\n",
    "\n",
    "This should get you going at a basic level. You can modify various parts of this as you see fit"
   ]
  },
  {
   "cell_type": "markdown",
   "metadata": {},
   "source": [
    "Basic Imports for chain runs"
   ]
  },
  {
   "cell_type": "code",
   "execution_count": null,
   "metadata": {},
   "outputs": [],
   "source": [
    "import os\n",
    "from functools import partial\n",
    "import json\n",
    "\n",
    "import geopandas as gpd\n",
    "import matplotlib.pyplot as plt\n",
    "\n",
    "from gerrychain import (\n",
    "    Election,\n",
    "    Graph,\n",
    "    MarkovChain,\n",
    "    Partition,\n",
    "    accept,\n",
    "    constraints,\n",
    "    updaters,\n",
    ")\n",
    "from gerrychain.metrics import efficiency_gap, mean_median\n",
    "from gerrychain.proposals import recom\n",
    "from gerrychain.updaters import cut_edges\n",
    "from gerrychain.tree import recursive_tree_part"
   ]
  },
  {
   "cell_type": "markdown",
   "metadata": {},
   "source": [
    "Create the underlying graph object from the json provided here https://github.com/vrdi/Your-State.\n",
    "You will need to look up your states FIPS code as that is how everything is organized.\n",
    "\n",
    "Most states will have voting and demographic information, however, no states have congressional districting assignments.\n",
    "For the purposes of running begining chains we will generate a begining plan using recursive_tree_part from gerrychain.tree"
   ]
  },
  {
   "cell_type": "code",
   "execution_count": null,
   "metadata": {},
   "outputs": [],
   "source": [
    "graph_path = \"path to your json here\"\n",
    "graph = Graph.from_json(graph_path)"
   ]
  },
  {
   "cell_type": "markdown",
   "metadata": {},
   "source": [
    "Next, set how many districts you want to generate, and set what the population is for your state.  To start you can just google what the estimated population count is for your state, and once you run chain you can calculate the actual population that exists on your graph.  This will be used to calculate the population deviation between districts.\n",
    "\n",
    "After that, create your updaters, here I have put in population and cut_edges but you can do whatever you would like.\n",
    "\n",
    "Finally, we will actually generate our starting plan and create the initial parition.  You will use recursive_tree_part for the plan.  The arguments in order are the graph object, the range of how many districts you set, the population target for each district, percentage of how far from ideal population we can be, the number of different choices of root to use before drawing a new spanning tree.  After that create your inital partiton using the Partition class by passing it the graph, the plan you just generated, and your updaters."
   ]
  },
  {
   "cell_type": "code",
   "execution_count": null,
   "metadata": {},
   "outputs": [],
   "source": [
    "num_dist  = 3\n",
    "pop = 577737\n",
    "\n",
    "updaters = {\n",
    "    \"population\": updaters.Tally(\"TOTPOP\", alias=\"population\"),\n",
    "    \"cut_edges\": cut_edges,\n",
    "}\n",
    "\n",
    "new_plan = recursive_tree_part(graph, range(num_dist), pop/num_dist, \"TOTPOP\", .05, 1)\n",
    "initial_partition = Partition(graph, new_plan, updaters)"
   ]
  },
  {
   "cell_type": "markdown",
   "metadata": {},
   "source": [
    "Now set how your walk will propose the next step.  For the purposes of this we will be using the recom step.  We will also set some basic constraints to give to the run.  You can add however many you want here, this is just a starting point."
   ]
  },
  {
   "cell_type": "code",
   "execution_count": null,
   "metadata": {},
   "outputs": [],
   "source": [
    "proposal = partial(recom, pop_col = \"TOTPOP\", pop_target = pop/num_dist, epsilon = 0.05, node_repeats = 3)\n",
    "\n",
    "compactness_bound = constraints.UpperBound(\n",
    "    lambda p: len(p[\"cut_edges\"]), 2 * len(initial_partition[\"cut_edges\"])\n",
    ")"
   ]
  },
  {
   "cell_type": "markdown",
   "metadata": {},
   "source": [
    "TIME TO MAKE THE CAHIN!"
   ]
  },
  {
   "cell_type": "code",
   "execution_count": null,
   "metadata": {},
   "outputs": [],
   "source": [
    "chain = MarkovChain(\n",
    "    proposal=proposal,\n",
    "    constraints=[\n",
    "        constraints.within_percent_of_ideal_population(initial_partition, 0.09),\n",
    "        compactness_bound,  # single_flip_contiguous#no_more_discontiguous\n",
    "    ],\n",
    "    accept=accept.always_accept,\n",
    "    initial_state=initial_partition,\n",
    "    total_steps=10,\n",
    ")"
   ]
  },
  {
   "cell_type": "markdown",
   "metadata": {},
   "source": [
    "All that's left is to start walking!  This has been purposefully left without anything really useful.  This is where you will be looking at your metrics and evaluating what you find important!"
   ]
  },
  {
   "cell_type": "code",
   "execution_count": null,
   "metadata": {},
   "outputs": [],
   "source": [
    "for step in chain:\n",
    "    print(step[\"population\"])"
   ]
  }
 ],
 "metadata": {
  "kernelspec": {
   "display_name": "Python 3",
   "language": "python",
   "name": "python3"
  },
  "language_info": {
   "codemirror_mode": {
    "name": "ipython",
    "version": 3
   },
   "file_extension": ".py",
   "mimetype": "text/x-python",
   "name": "python",
   "nbconvert_exporter": "python",
   "pygments_lexer": "ipython3",
   "version": "3.6.7"
  }
 },
 "nbformat": 4,
 "nbformat_minor": 2
}
